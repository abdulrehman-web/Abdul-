{
 "cells": [
  {
   "cell_type": "markdown",
   "id": "70949a33",
   "metadata": {},
   "source": [
    "# Solved Exercise for Classes"
   ]
  },
  {
   "cell_type": "code",
   "execution_count": 1,
   "id": "ae0cfef5",
   "metadata": {},
   "outputs": [
    {
     "name": "stdout",
     "output_type": "stream",
     "text": [
      "Name: Abdul Rehman\n",
      "Age: 21\n",
      "City: Lahore\n",
      "None\n"
     ]
    }
   ],
   "source": [
    "#Q1)\n",
    "class Person :\n",
    "    def __init__ (self, name, age, city) :\n",
    "        self.name = name\n",
    "        self.age = age\n",
    "        self.city = city\n",
    "    def describe_person (self) :\n",
    "        print(f\"Name: {self.name.title()}\\nAge: {self.age.title()}\\nCity: {self.city.title()}\")\n",
    "        \n",
    "person1 = Person(\"Abdul Rehman\",\"21\",\"Lahore\")\n",
    "print(person1.describe_person())"
   ]
  },
  {
   "cell_type": "code",
   "execution_count": 6,
   "id": "6bb2f021",
   "metadata": {},
   "outputs": [
    {
     "name": "stdout",
     "output_type": "stream",
     "text": [
      "Make: Bugatti\n",
      "Model: Chiron\n",
      "Year: 2016\n",
      "None\n"
     ]
    }
   ],
   "source": [
    "#Q2)\n",
    "class Car :\n",
    "    def __init__ (self, make, model, year) :\n",
    "        self.make = make\n",
    "        self.model = model\n",
    "        self.year = year\n",
    "    def describe_car (self) :\n",
    "        print(f\"Make: {self.make.title()}\\nModel: {self.model.title()}\\nYear: {self.year}\")\n",
    "        \n",
    "car1 = Car(\"Bugatti\", \"Chiron\", 2016)\n",
    "print(car1.describe_car())"
   ]
  },
  {
   "cell_type": "code",
   "execution_count": 10,
   "id": "58825aa9",
   "metadata": {},
   "outputs": [
    {
     "name": "stdout",
     "output_type": "stream",
     "text": [
      "Radius: 10\n",
      "Area: 314.159\n",
      "Circumference: 62.8318\n"
     ]
    }
   ],
   "source": [
    "#Q3)\n",
    "class Circle :\n",
    "    def __init__ (self, radius) :\n",
    "        self.radius = radius\n",
    "    def circle_area (self) :\n",
    "        return (3.14159 * (self.radius ** 2))\n",
    "    def circle_circumference (self) :\n",
    "        return (2 * 3.14159 * self.radius)\n",
    "\n",
    "circle1 = Circle(10)\n",
    "print(f\"Radius: {circle1.radius}\\nArea: {circle1.circle_area()}\\nCircumference: {circle1.circle_circumference()}\")"
   ]
  },
  {
   "cell_type": "code",
   "execution_count": 13,
   "id": "8da47c26",
   "metadata": {},
   "outputs": [
    {
     "name": "stdout",
     "output_type": "stream",
     "text": [
      "Length: 10\n",
      "Width: 5\n",
      "Area: 50\n",
      "Perimeter: 30\n"
     ]
    }
   ],
   "source": [
    "#Q4)\n",
    "class Rectangle :\n",
    "    def __init__ (self, length, width) :\n",
    "        self.length = length\n",
    "        self.width = width\n",
    "    def rectangle_area (self) :\n",
    "        return (self.width * self.length)\n",
    "    def rectangle_perimeter (self) :\n",
    "        return ((self.length * 2) + (self.width * 2))\n",
    "\n",
    "rectangle1 = Rectangle(10, 5)\n",
    "print(f\"Length: {rectangle1.length}\\nWidth: {rectangle1.width}\\nArea: {rectangle1.rectangle_area()}\\nPerimeter: {rectangle1.rectangle_perimeter()}\")"
   ]
  },
  {
   "cell_type": "code",
   "execution_count": 2,
   "id": "e805026f",
   "metadata": {},
   "outputs": [
    {
     "name": "stdout",
     "output_type": "stream",
     "text": [
      "Name: Abdul Rehman\n",
      "Roll No: 3\n",
      "Average: 88.2\n"
     ]
    }
   ],
   "source": [
    "#Q5)\n",
    "class Student :\n",
    "    def __init__ (self, name, roll_number, *marks) :\n",
    "        self.name = name\n",
    "        self.roll_number = roll_number\n",
    "        self.marks = marks\n",
    "    def average_marks (self) :\n",
    "        total_marks = 0\n",
    "        no_of_marks = 0\n",
    "        for mark in self.marks :\n",
    "            total_marks += mark\n",
    "            no_of_marks += 1\n",
    "        return (total_marks / no_of_marks)\n",
    "    \n",
    "student1 = Student(\"Abdul Rehman\", 3, 90, 92, 88, 85, 86)\n",
    "print(f\"Name: {student1.name}\\nRoll No: {student1.roll_number}\\nAverage: {student1.average_marks()}\")"
   ]
  },
  {
   "cell_type": "code",
   "execution_count": 20,
   "id": "2e578fc1",
   "metadata": {},
   "outputs": [
    {
     "name": "stdout",
     "output_type": "stream",
     "text": [
      "Title = Bange-E-Dara\n",
      "Author: Allama Iqbal\n",
      "Publication Year: 1924\n"
     ]
    }
   ],
   "source": [
    "#Q6)\n",
    "class Book :\n",
    "    def __init__ (self, title, author, publication_year) :\n",
    "        self.title = title\n",
    "        self.author = author\n",
    "        self.publication_year = publication_year\n",
    "    \n",
    "book1 = Book(\"Bange-e-Dara\", \"Allama Iqbal\", 1924)\n",
    "print(f\"Title = {book1.title.title()}\\nAuthor: {book1.author.title()}\\nPublication Year: {book1.publication_year}\")"
   ]
  },
  {
   "cell_type": "code",
   "execution_count": 4,
   "id": "1d6f8948",
   "metadata": {},
   "outputs": [
    {
     "name": "stdout",
     "output_type": "stream",
     "text": [
      "Name = Abid Farooq\n",
      "Designation: Math Teacher\n",
      "Salary: 2000000\n"
     ]
    }
   ],
   "source": [
    "#Q7)\n",
    "class Employee :\n",
    "    def __init__ (self, name, salary, designation) :\n",
    "        self.name = name\n",
    "        self.salary = salary\n",
    "        self.designation = designation\n",
    "    \n",
    "employee1 = Employee(\"Abid Farooq\", 2_000_000, \"Math Teacher\")\n",
    "print(f\"Name = {employee1.name.title()}\\nDesignation: {employee1.designation.title()}\\nSalary: {employee1.salary}\")"
   ]
  },
  {
   "cell_type": "code",
   "execution_count": 5,
   "id": "6d23a826",
   "metadata": {},
   "outputs": [
    {
     "name": "stdout",
     "output_type": "stream",
     "text": [
      "Name: Abdul Rehman\n",
      "Account Number: 352334-084-874\n",
      "Balance: 10000000\n",
      "Balance After Deposit: 10100000\n",
      "Balance After Withdraw: 10100000\n"
     ]
    }
   ],
   "source": [
    "#Q8)\n",
    "class Bank :\n",
    "    def __init__ (self, name, account_number, balance) :\n",
    "        self.name = name\n",
    "        self.account_number = account_number \n",
    "        self.balance = balance\n",
    "    def deposit (self, amount) :\n",
    "        if self.balance >= 0 :\n",
    "            self.balance += amount\n",
    "        else : \n",
    "            pass\n",
    "        return self.balance\n",
    "    \n",
    "    def withdraw (self, amount) :\n",
    "        if self.balance <= amount :\n",
    "            self.balance -= amount\n",
    "        else : \n",
    "            pass\n",
    "        return self.balance\n",
    "    \n",
    "user1 = Bank(\"Abdul Rehman\", \"352334-084-874\", 10_000_000)\n",
    "print(f\"Name: {user1.name.title()}\\nAccount Number: {user1.account_number}\\nBalance: {user1.balance}\")\n",
    "print(f\"Balance After Deposit: {user1.deposit(100_000)}\")\n",
    "print(f\"Balance After Withdraw: {user1.withdraw(50_000)}\")"
   ]
  },
  {
   "cell_type": "code",
   "execution_count": 33,
   "id": "3373a271",
   "metadata": {},
   "outputs": [
    {
     "name": "stdout",
     "output_type": "stream",
     "text": [
      "Shape: Triangle\n",
      "Color: Green\n",
      " Area: 25.0\n",
      "\n",
      "Shape: Rectangle\n",
      "Color: Yellow\n",
      " Area: 42\n",
      "\n",
      "Shape: Circle\n",
      "Color: Black\n",
      " Area: 706.85775\n",
      "\n"
     ]
    }
   ],
   "source": [
    "#Q9)\n",
    "class Shape :\n",
    "    def __init__ (self, color, shape_type) :\n",
    "        self.color = color\n",
    "        self.shape_type = shape_type\n",
    "    def area (self) :\n",
    "        area = 0\n",
    "        return area\n",
    "    def describe_shape (self) :\n",
    "        print(f\"Shape: {self.shape_type.title()}\\nColor: {self.color.title()}\")\n",
    "\n",
    "class Circle(Shape) :\n",
    "    def __init__ (self, color, radius, shape_type) :\n",
    "        super().__init__(color, shape_type)\n",
    "        self.radius = radius\n",
    "    def area (self) :\n",
    "        return (3.14159 * (self.radius ** 2))\n",
    "\n",
    "class Rectangle(Shape) :\n",
    "    def __init__ (self, color, length, width, shape_type) :\n",
    "        super().__init__(color, shape_type)\n",
    "        self.length = length\n",
    "        self.width = width\n",
    "    def area (self) :\n",
    "        return (self.width * self.length)\n",
    "    \n",
    "class Triangle(Shape) :\n",
    "    def __init__ (self, color, height, base, shape_type) :\n",
    "        super().__init__(color, shape_type)\n",
    "        self.height = height\n",
    "        self.base = base\n",
    "    def area (self) :\n",
    "        return ((self.height * self.base) *  (1/2))\n",
    "    \n",
    "triangle1 = Triangle(\"Green\", 10, 5, \"Triangle\")\n",
    "rectangle1 = Rectangle(\"Yellow\", 6, 7, \"Rectangle\")\n",
    "circle1 = Circle(\"Black\", 15, \"circle\")\n",
    "\n",
    "triangle1.describe_shape()\n",
    "print(f\" Area: {triangle1.area()}\\n\")\n",
    "rectangle1.describe_shape()\n",
    "print(f\" Area: {rectangle1.area()}\\n\")\n",
    "circle1.describe_shape()\n",
    "print(f\" Area: {circle1.area()}\\n\")"
   ]
  },
  {
   "cell_type": "code",
   "execution_count": 44,
   "id": "29ae1c17",
   "metadata": {},
   "outputs": [
    {
     "name": "stdout",
     "output_type": "stream",
     "text": [
      "Husky Bark's\n",
      "Garfield Meow's\n",
      "Ayrshire Cattle Moo's\n"
     ]
    }
   ],
   "source": [
    "class Animal:\n",
    "    def __init__(self, name, sound = \"No Sound\"):\n",
    "        self.name = name\n",
    "        self.sound = sound\n",
    "    def make_sound(self):\n",
    "        print(f\"{self.name.title()} {self.sound.title()}'s\")\n",
    "\n",
    "class Dog (Animal) :\n",
    "    def __init__ (self, name, sound = \"bark\") :\n",
    "        super().__init__(name, sound)\n",
    "\n",
    "class Cat (Animal) :\n",
    "    def __init__ (self, name, sound = \"meow\") :\n",
    "        super().__init__(name, sound)\n",
    "        \n",
    "class Cow (Animal) :\n",
    "    def __init__ (self, name, sound = \"moo\") :\n",
    "        super().__init__(name, sound)\n",
    "        \n",
    "dog1 = Dog(\"Husky\")\n",
    "cat1 = Cat(\"Garfield\")\n",
    "cow1 = Cow(\"Ayrshire cattle\")\n",
    "\n",
    "dog1.make_sound()\n",
    "cat1.make_sound()\n",
    "cow1.make_sound()"
   ]
  }
 ],
 "metadata": {
  "kernelspec": {
   "display_name": "Python 3 (ipykernel)",
   "language": "python",
   "name": "python3"
  },
  "language_info": {
   "codemirror_mode": {
    "name": "ipython",
    "version": 3
   },
   "file_extension": ".py",
   "mimetype": "text/x-python",
   "name": "python",
   "nbconvert_exporter": "python",
   "pygments_lexer": "ipython3",
   "version": "3.11.4"
  }
 },
 "nbformat": 4,
 "nbformat_minor": 5
}
